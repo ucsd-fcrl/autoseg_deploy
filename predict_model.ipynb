{
 "cells": [
  {
   "cell_type": "code",
   "execution_count": null,
   "metadata": {},
   "outputs": [],
   "source": [
    "## Import\n",
    "from __future__ import print_function\n",
    "from utils.patient import Patient\n",
    "\n",
    "import torch\n",
    "\n",
    "from unet.unet_model import UNet\n",
    "from utils.patient import Patient\n",
    "\n",
    "import glob\n",
    "import os\n",
    "\n",
    "print(\"CUDA Status: \" + str(torch.cuda.is_available()))"
   ]
  },
  {
   "cell_type": "code",
   "execution_count": null,
   "metadata": {},
   "outputs": [],
   "source": [
    "## Load and predict\n",
    "n_channels = 1\n",
    "n_classes = 14\n",
    "net = UNet(n_channels=n_channels, n_classes=n_classes)\n",
    "net.to(device='cuda' if torch.cuda.is_available() else 'cpu')\n",
    "\n",
    "best_partition = 4\n",
    "best_epoch = 63\n",
    "\n",
    "modelpath = \"D:\\\\autoseg\\\\nets\\\\unet-spine-save\" + str(best_partition) + \"_\" + str(best_epoch) + \".pth\"\n",
    "print(\"Loading net at: \" + modelpath)\n",
    "    \n",
    "net.load_state_dict(torch.load(modelpath, map_location='cuda' if torch.cuda.is_available() else 'cpu'))\n",
    "\n",
    "img_path = ## input image path here\n",
    "seg_path = ## segmentation output path here\n",
    "\n",
    "patient = Patient(pat_path,data_device='cuda' if torch.cuda.is_available() else 'cpu')\n",
    "patient.predict(net,seg_path,batch_size=10)"
   ]
  },
  {
   "cell_type": "code",
   "execution_count": null,
   "metadata": {},
   "outputs": [],
   "source": []
  }
 ],
 "metadata": {
  "kernelspec": {
   "display_name": "Python 3",
   "language": "python",
   "name": "python3"
  },
  "language_info": {
   "codemirror_mode": {
    "name": "ipython",
    "version": 3
   },
   "file_extension": ".py",
   "mimetype": "text/x-python",
   "name": "python",
   "nbconvert_exporter": "python",
   "pygments_lexer": "ipython3",
   "version": "3.8.5"
  }
 },
 "nbformat": 4,
 "nbformat_minor": 4
}
